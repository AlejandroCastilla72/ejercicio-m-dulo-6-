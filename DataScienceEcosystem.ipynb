{
 "cells": [
  {
   "cell_type": "markdown",
   "id": "12e59e60-3525-443e-83e0-ecb1a71b8e31",
   "metadata": {},
   "source": [
    "# Data Science Tools and Ecosystem"
   ]
  },
  {
   "cell_type": "markdown",
   "id": "62ffa8c9-fa9c-4e3a-839e-13b0053ed5a7",
   "metadata": {},
   "source": [
    "## In this notebook, Data Science Tools and Ecosystem are summarized."
   ]
  },
  {
   "cell_type": "markdown",
   "id": "9c499cb4-ef7d-48a8-9790-acf3a85af619",
   "metadata": {},
   "source": [
    "#### **Objectives** \n",
    "* List popular languages for Data Science\n",
    "* libraries used by Data Scientists\n",
    "* arithmetic expressions in Python\n"
   ]
  },
  {
   "cell_type": "markdown",
   "id": "d0dc8af5-75ad-467e-a07e-4b1b3ead1796",
   "metadata": {},
   "source": [
    "### Some of the popular languages that Data Scientists use are:"
   ]
  },
  {
   "cell_type": "markdown",
   "id": "ef1f2917-c8b0-4bd0-8b0f-ccdeb37d089b",
   "metadata": {},
   "source": [
    "1. Python\n",
    "2. R\n",
    "3. SQL\n",
    "4. Java\n"
   ]
  },
  {
   "cell_type": "markdown",
   "id": "96a4e40a-55e2-4a62-9cf6-e4e47511d9d1",
   "metadata": {},
   "source": [
    "### Some of the commonly used libraries used by Data Scientists include:\n",
    "1. Matplotlib\n",
    "2. Numpy\n",
    "3. Panda\n",
    "4. Ggplot2\n"
   ]
  },
  {
   "cell_type": "markdown",
   "id": "87f6ae5c-8152-44be-bf2c-19e1a1fe546e",
   "metadata": {
    "tags": []
   },
   "source": [
    "| Data Science Tools |\n",
    "| ------------------ |\n",
    "| Project Jupyter |\n",
    "| RStudio |\n",
    "| Apache Hadoop |\n"
   ]
  },
  {
   "cell_type": "markdown",
   "id": "3a2a08d1-a1af-4a88-bcb8-7929fc7a2d72",
   "metadata": {},
   "source": [
    "### Below are a few examples of evaluating arithmetic expressions in Python\n"
   ]
  },
  {
   "cell_type": "code",
   "execution_count": 11,
   "id": "a29f6bbb-d010-4c89-8c34-f2ec1781972f",
   "metadata": {
    "tags": []
   },
   "outputs": [
    {
     "data": {
      "text/plain": [
       "14"
      ]
     },
     "execution_count": 11,
     "metadata": {},
     "output_type": "execute_result"
    }
   ],
   "source": [
    "4+10"
   ]
  },
  {
   "cell_type": "code",
   "execution_count": 12,
   "id": "45518f06-d760-4d7e-a3d2-690aee906cd8",
   "metadata": {
    "tags": []
   },
   "outputs": [
    {
     "data": {
      "text/plain": [
       "56"
      ]
     },
     "execution_count": 12,
     "metadata": {},
     "output_type": "execute_result"
    }
   ],
   "source": [
    "14*4\n"
   ]
  },
  {
   "cell_type": "code",
   "execution_count": 13,
   "id": "84965a20-bdba-4219-9969-14e9bc3d4363",
   "metadata": {
    "tags": []
   },
   "outputs": [
    {
     "data": {
      "text/plain": [
       "28.0"
      ]
     },
     "execution_count": 13,
     "metadata": {},
     "output_type": "execute_result"
    }
   ],
   "source": [
    "56/2\n"
   ]
  },
  {
   "cell_type": "code",
   "execution_count": 14,
   "id": "bfe487e0-6311-4587-9630-c716bc84e1e9",
   "metadata": {
    "tags": []
   },
   "outputs": [
    {
     "name": "stdout",
     "output_type": "stream",
     "text": [
      "50\n"
     ]
    }
   ],
   "source": [
    "x=10\n",
    "y=40\n",
    "z=x+y\n",
    "print(z)\n"
   ]
  },
  {
   "cell_type": "code",
   "execution_count": 15,
   "id": "f06f8cc2-2564-45ad-8e4c-8228de3083d3",
   "metadata": {
    "tags": []
   },
   "outputs": [
    {
     "name": "stdout",
     "output_type": "stream",
     "text": [
      "216\n"
     ]
    }
   ],
   "source": [
    "a= pow (6,3)\n",
    "print (a)"
   ]
  },
  {
   "cell_type": "markdown",
   "id": "889ecad7-7622-4837-8163-7b912c887e1c",
   "metadata": {
    "tags": []
   },
   "source": [
    "### This a simple arithmetic expression to multiply then add integers\n"
   ]
  },
  {
   "cell_type": "code",
   "execution_count": 17,
   "id": "71e34b97-7bbf-4ade-8657-b01a5ee9ce90",
   "metadata": {
    "tags": []
   },
   "outputs": [
    {
     "data": {
      "text/plain": [
       "17"
      ]
     },
     "execution_count": 17,
     "metadata": {},
     "output_type": "execute_result"
    }
   ],
   "source": [
    "(3*4)+5\n"
   ]
  },
  {
   "cell_type": "markdown",
   "id": "9940d4e4-18bc-47e0-a4c5-9e3045a17bdd",
   "metadata": {},
   "source": [
    "### This will convert 200 minutes to hours by diving by 60"
   ]
  },
  {
   "cell_type": "code",
   "execution_count": 18,
   "id": "d772977c-6165-40ef-8964-a102b75fea92",
   "metadata": {
    "tags": []
   },
   "outputs": [
    {
     "data": {
      "text/plain": [
       "3.3333333333333335"
      ]
     },
     "execution_count": 18,
     "metadata": {},
     "output_type": "execute_result"
    }
   ],
   "source": [
    "200/60"
   ]
  },
  {
   "cell_type": "markdown",
   "id": "31ec458c-b0cf-4be4-aa24-d0173b070004",
   "metadata": {},
   "source": [
    "## Author"
   ]
  },
  {
   "cell_type": "markdown",
   "id": "86385fc1-2cf1-4d59-b8c8-dd210e727a7c",
   "metadata": {},
   "source": [
    "### Alejandro Castilla"
   ]
  },
  {
   "cell_type": "code",
   "execution_count": null,
   "id": "e85ac9d1-f418-44ad-9186-497bb01767da",
   "metadata": {},
   "outputs": [],
   "source": []
  }
 ],
 "metadata": {
  "kernelspec": {
   "display_name": "Python",
   "language": "python",
   "name": "conda-env-python-py"
  },
  "language_info": {
   "codemirror_mode": {
    "name": "ipython",
    "version": 3
   },
   "file_extension": ".py",
   "mimetype": "text/x-python",
   "name": "python",
   "nbconvert_exporter": "python",
   "pygments_lexer": "ipython3",
   "version": "3.7.12"
  }
 },
 "nbformat": 4,
 "nbformat_minor": 5
}
